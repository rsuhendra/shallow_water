{
 "cells": [
  {
   "cell_type": "code",
   "execution_count": 1,
   "metadata": {},
   "outputs": [],
   "source": [
    "%matplotlib notebook\n",
    "import numpy as np\n",
    "import matplotlib.pyplot as plt\n",
    "import field\n",
    "import spatial\n",
    "import timesteppers\n",
    "import equations\n",
    "import equationsBC\n",
    "import equations3\n",
    "import equations4\n",
    "import eqtest"
   ]
  },
  {
   "cell_type": "code",
   "execution_count": 2,
   "metadata": {},
   "outputs": [],
   "source": [
    "def plot_2D_field(xm, ym, data):\n",
    "    fig = plt.figure(figsize=(4,3))\n",
    "    ax = fig.add_subplot(111)\n",
    "    pcm = ax.pcolormesh(xm, ym, data)\n",
    "    ax.set_aspect(1)\n",
    "    fig.colorbar(pcm)\n",
    "    ax.set_xlabel('x')\n",
    "    ax.set_ylabel('y')"
   ]
  },
  {
   "cell_type": "code",
   "execution_count": 3,
   "metadata": {
    "scrolled": false
   },
   "outputs": [
    {
     "name": "stderr",
     "output_type": "stream",
     "text": [
      "C:\\Users\\RichardSuhendra\\miniconda3\\lib\\site-packages\\scipy\\sparse\\_index.py:124: SparseEfficiencyWarning: Changing the sparsity structure of a csr_matrix is expensive. lil_matrix is more efficient.\n",
      "  self._set_arrayXarray(i, j, x)\n"
     ]
    },
    {
     "ename": "NameError",
     "evalue": "name 'SWDiffx' is not defined",
     "output_type": "error",
     "traceback": [
      "\u001b[1;31m---------------------------------------------------------------------------\u001b[0m",
      "\u001b[1;31mNameError\u001b[0m                                 Traceback (most recent call last)",
      "\u001b[1;32m<ipython-input-3-c1e6acb564e0>\u001b[0m in \u001b[0;36m<module>\u001b[1;34m\u001b[0m\n\u001b[0;32m     31\u001b[0m \u001b[0malpha\u001b[0m \u001b[1;33m=\u001b[0m \u001b[1;36m0.05\u001b[0m\u001b[1;33m\u001b[0m\u001b[1;33m\u001b[0m\u001b[0m\n\u001b[0;32m     32\u001b[0m \u001b[1;33m\u001b[0m\u001b[0m\n\u001b[1;32m---> 33\u001b[1;33m \u001b[0msw_problem\u001b[0m\u001b[1;33m=\u001b[0m\u001b[0meqtest\u001b[0m\u001b[1;33m.\u001b[0m\u001b[0mSWlinearBE\u001b[0m\u001b[1;33m(\u001b[0m\u001b[0mX\u001b[0m\u001b[1;33m,\u001b[0m\u001b[1;36m2\u001b[0m\u001b[1;33m,\u001b[0m\u001b[0mg\u001b[0m\u001b[1;33m,\u001b[0m\u001b[0mH\u001b[0m\u001b[1;33m)\u001b[0m\u001b[1;33m\u001b[0m\u001b[1;33m\u001b[0m\u001b[0m\n\u001b[0m\u001b[0;32m     34\u001b[0m \u001b[0mdt\u001b[0m \u001b[1;33m=\u001b[0m \u001b[0malpha\u001b[0m\u001b[1;33m*\u001b[0m\u001b[0mgrid_x\u001b[0m\u001b[1;33m.\u001b[0m\u001b[0mdx\u001b[0m\u001b[1;33m\u001b[0m\u001b[1;33m\u001b[0m\u001b[0m\n\u001b[0;32m     35\u001b[0m \u001b[1;33m\u001b[0m\u001b[0m\n",
      "\u001b[1;32m~\\Documents\\GitHub\\shallow_water\\eqtest.py\u001b[0m in \u001b[0;36m__init__\u001b[1;34m(self, X, spatial_order, g, H)\u001b[0m\n\u001b[0;32m     23\u001b[0m \u001b[1;33m\u001b[0m\u001b[0m\n\u001b[0;32m     24\u001b[0m \u001b[1;33m\u001b[0m\u001b[0m\n\u001b[1;32m---> 25\u001b[1;33m         \u001b[0mdx\u001b[0m \u001b[1;33m=\u001b[0m \u001b[0mSWDiffx\u001b[0m\u001b[1;33m(\u001b[0m\u001b[0mX\u001b[0m\u001b[1;33m,\u001b[0m \u001b[0mg\u001b[0m\u001b[1;33m,\u001b[0m \u001b[0mH\u001b[0m\u001b[1;33m,\u001b[0m \u001b[0mdudx\u001b[0m\u001b[1;33m,\u001b[0m \u001b[0mdhdx\u001b[0m\u001b[1;33m)\u001b[0m\u001b[1;33m\u001b[0m\u001b[1;33m\u001b[0m\u001b[0m\n\u001b[0m\u001b[0;32m     26\u001b[0m         \u001b[0mdy\u001b[0m \u001b[1;33m=\u001b[0m \u001b[0mSWDiffy\u001b[0m\u001b[1;33m(\u001b[0m\u001b[0mX\u001b[0m\u001b[1;33m,\u001b[0m \u001b[0mg\u001b[0m\u001b[1;33m,\u001b[0m\u001b[0mH\u001b[0m\u001b[1;33m,\u001b[0m\u001b[0mdvdy\u001b[0m\u001b[1;33m,\u001b[0m \u001b[0mdhdy\u001b[0m\u001b[1;33m)\u001b[0m\u001b[1;33m\u001b[0m\u001b[1;33m\u001b[0m\u001b[0m\n\u001b[0;32m     27\u001b[0m \u001b[1;33m\u001b[0m\u001b[0m\n",
      "\u001b[1;31mNameError\u001b[0m: name 'SWDiffx' is not defined"
     ]
    }
   ],
   "source": [
    "resolution=200\n",
    "grid_x = field.UniformPeriodicGrid(resolution, 2*np.pi)\n",
    "grid_y = field.UniformPeriodicGrid(resolution, 2*np.pi)\n",
    "domain = field.Domain((grid_x, grid_y))\n",
    "x, y = domain.values()\n",
    "\n",
    "#BT = np.sin(x/2)*np.ones_like(y) +2\n",
    "BT = np.sin(x)*np.sin(y) +2\n",
    "\n",
    "IC = np.exp( - ( (x-np.pi)**2 + (y-np.pi)**2 )*2 )\n",
    "\n",
    "#IC += np.exp( - ( (x-np.pi/2)**2 + (y-np.pi/2)**2 )*2 )\n",
    "\n",
    "h = field.Field(domain)\n",
    "u = field.Field(domain)\n",
    "v = field.Field(domain)\n",
    "H = field.Field(domain)\n",
    "\n",
    "X = field.FieldSystem([u,v,h])\n",
    "\n",
    "h.data[:] = IC\n",
    "u.data[:] = 0*IC \n",
    "v.data[:] = 0*IC\n",
    "H.data[:] = BT\n",
    "\n",
    "g = 9.81\n",
    "nu = 0\n",
    "f = 0\n",
    "b = 0\n",
    "H=3\n",
    "alpha = 0.05\n",
    "\n",
    "sw_problem=eqtest.SWlinearBE(X,2,g,H)\n",
    "dt = alpha*grid_x.dx\n",
    "\n",
    "xm, ym = domain.plotting_arrays()\n",
    "\n",
    "fig = plt.figure(figsize=(4,3))\n",
    "ax = fig.add_subplot(111)\n",
    "pcm = ax.pcolormesh(xm, ym, h.data)\n",
    "pcm.set_clim([-0.5,1])\n",
    "ax.set_aspect(1)\n",
    "fig.colorbar(pcm)\n",
    "ax.set_xlabel('x')\n",
    "ax.set_ylabel('y')\n",
    "fig.canvas.draw()\n",
    "while sw_problem.t < 10-1e-5:\n",
    "\n",
    "    sw_problem.step(dt)\n",
    "    if sw_problem.iter % 10 == 0:\n",
    "        pcm.set_array(np.ravel(h.data))\n",
    "        #pcm.set_clim([0,np.max(h.data)])\n",
    "        print(np.max(h.data))\n",
    "        fig.canvas.draw()\n",
    "print('done')"
   ]
  },
  {
   "cell_type": "code",
   "execution_count": null,
   "metadata": {},
   "outputs": [],
   "source": [
    "resolution=200\n",
    "grid_x = field.UniformPeriodicGrid(resolution, 2*np.pi)\n",
    "grid_y = field.UniformPeriodicGrid(resolution, 2*np.pi)\n",
    "domain = field.Domain((grid_x, grid_y))\n",
    "x, y = domain.values()\n",
    "\n",
    "#BT = np.sin(x/2)*np.ones_like(y)\n",
    "BT = np.sin(x/2)*np.sin(y/2)+3\n",
    "\n",
    "IC = np.exp( - ( (x-np.pi)**2 + (y-np.pi)**2 )*8 )\n",
    "# IC += np.exp( - ( (x-10)**2 + (y-18)**2 ) )\n",
    "\n",
    "h = field.Field(domain)\n",
    "u = field.Field(domain)\n",
    "v = field.Field(domain)\n",
    "H = field.Field(domain)\n",
    "\n",
    "X = field.FieldSystem([u,v,h])\n",
    "\n",
    "h.data[:] = IC\n",
    "u.data[:] = 0*IC \n",
    "v.data[:] = 0*IC\n",
    "H.data[:] = BT\n",
    "\n",
    "g = 9.81\n",
    "nu = 0\n",
    "f = 0\n",
    "b = 0\n",
    "\n",
    "\n",
    "alpha = 0.05\n",
    "\n",
    "sw = equations.SWFull(X, 2, g, f,b,nu,H)\n",
    "dt = alpha*grid_x.dx\n",
    "\n",
    "xm, ym = domain.plotting_arrays()\n",
    "\n",
    "fig = plt.figure(figsize=(4,3))\n",
    "ax = fig.add_subplot(111)\n",
    "pcm = ax.pcolormesh(xm, ym, h.data)\n",
    "pcm.set_clim([-1,1])\n",
    "ax.set_aspect(1)\n",
    "fig.colorbar(pcm)\n",
    "ax.set_xlabel('x')\n",
    "ax.set_ylabel('y')\n",
    "fig.canvas.draw()\n",
    "while sw.t < 2 - 1e-5:\n",
    "    sw.step(dt)\n",
    "    if sw.iter % 10 == 0:\n",
    "        pcm.set_array(np.ravel(h.data))\n",
    "        #pcm.set_clim([0,np.max(h.data)])\n",
    "        print(np.max(h.data))\n",
    "        fig.canvas.draw()\n",
    "print('done')"
   ]
  },
  {
   "cell_type": "code",
   "execution_count": null,
   "metadata": {},
   "outputs": [],
   "source": []
  }
 ],
 "metadata": {
  "kernelspec": {
   "display_name": "Python 3",
   "language": "python",
   "name": "python3"
  },
  "language_info": {
   "codemirror_mode": {
    "name": "ipython",
    "version": 3
   },
   "file_extension": ".py",
   "mimetype": "text/x-python",
   "name": "python",
   "nbconvert_exporter": "python",
   "pygments_lexer": "ipython3",
   "version": "3.8.5"
  }
 },
 "nbformat": 4,
 "nbformat_minor": 4
}
